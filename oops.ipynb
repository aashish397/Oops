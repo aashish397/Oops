{
  "nbformat": 4,
  "nbformat_minor": 0,
  "metadata": {
    "colab": {
      "provenance": []
    },
    "kernelspec": {
      "name": "python3",
      "display_name": "Python 3"
    },
    "language_info": {
      "name": "python"
    }
  },
  "cells": [
    {
      "cell_type": "markdown",
      "source": [
        "                * Theory Questions *\n",
        "\n",
        "1. What is Object-Oriented Programming (OOP)?\n",
        "-> Object-Oriented Programming (OOP) is a programming paradigm that organizes software design around objects, which are instances of classes. OOP enables code reusability, modularity, and scalability by encapsulating data and behaviors into objects.\n",
        "\n",
        "2. What is a class in OOP?\n",
        "-> Class in Object-Oriented Programming (OOP)\n",
        "A class is a blueprint or template for creating objects in OOP. It defines the attributes (data members) and behaviors (methods) that the objects created from the class will have.\n",
        "\n",
        "3. What is an object in OOP?\n",
        "-> An object is an instance of a class. It represents a real-world entity with specific attributes (data) and behaviors (methods).\n",
        "\n",
        "4. What is the difference between abstraction and encapsulation?\n",
        "-> Abstraction: Hides implementation details and shows only essential features,Achieved using abstract classes, interfaces, and method overriding.\tAchieved using access modifiers (private, protected, public) and getter/setter methods. whereas,  \n",
        "Encapsulation: \tRestricts direct access to certain data and ensures controlled modification. Focus\tHides implementation details to make usage easier.\tRestricts data access and ensures data integrity.\n",
        "Example\tA car’s steering wheel hides the complexity of turning the wheels.\tThe engine is hidden inside the hood, preventing direct access.\n",
        "\n",
        "5. What are dunder methods in python?\n",
        "-> Dunder (short for Double Underscore) methods, also called magic methods, are special methods in Python that start and end with double underscores (e.g., __init__, __str__, __add__). These methods are used to override built-in behaviors and enable customization of class functionality.\n",
        "\n",
        "6. Explain thr concept of inheritance in OOP.\n",
        "-> Inheritance is an OOP concept that allows a class (child/subclass) to inherit properties and behaviors (attributes and methods) from another class (parent/superclass). It promotes code reuse and hierarchical relationships between classes.\n",
        "\n",
        "7. What is polymorphism in OOP.\n",
        "-> Polymorphism (Greek: poly = many, morph = forms) is an OOP concept that allows objects of different classes to be treated as objects of a common superclass, enabling a single interface to handle multiple data types.\n",
        "\n",
        "8. How is encapsulation achieved in python?\n",
        "-> Python achieves encapsulation using access modifiers:\n",
        "   1. Public (self.variable) – Accessible from anywhere.\n",
        "   2. Protected (self._variable) – Should not be accessed directly but is still accessible.\n",
        "   3. Private (self.__variable) – Cannot be accessed directly outside the class.\n",
        "\n",
        "9. What is a constructor in python?\n",
        "-> A constructor is a special method in Python used to initialize objects when they are created. In Python, the constructor method is __init__(), which is called automatically when an object is instantiated from a class.\n",
        "\n",
        "10. What are class and static methods in Python?\n",
        "->  1. Class Method (@classmethod): A class method is bound to the class rather than an instance. It takes cls as the first parameter and can modify class-level attributes.\n",
        "   2. Static Method (@staticmethod): A static method does not depend on instance or class attributes. It does not take self or cls as a parameter.\n",
        "\n",
        "11. What is method overloading in python?\n",
        "->  Method overloading allows a class to have multiple methods with the same name but different numbers or types of parameters. It provides flexibility by enabling different behaviors based on the provided arguments.\n",
        "\n",
        "12. What is method overriding in OOP?\n",
        "->  Method overriding is an OOP feature that allows a child class to provide a specific implementation of a method that is already defined in the parent class.\n",
        "\n",
        "13. What is a property decorator in python?\n",
        "->  The @property decorator in Python is used to define getter methods for class attributes, allowing controlled access to private variables while maintaining a simple attribute-like syntax.\n",
        "\n",
        "14. Why is polymorphism important in OOP?\n",
        "->  Polymorphism is a fundamental concept in Object-Oriented Programming (OOP) that allows a single interface to be used for different types of objects. It enhances code flexibility, reusability, and scalability.\n",
        "Increases Code Reusability:\n",
        "<> Same function name, different behaviors → Avoids code duplication.\n",
        "<> Allows writing generalized code that works for multiple object types.\n",
        "Supports Method Overriding for Dynamic Behavior:\n",
        "<> Allows child classes to override a parent class method to implement specialized behavior.\n",
        "<> Achieves runtime polymorphism (Method Overriding).\n",
        "Enables Operator Overloading:\n",
        "<> Allows customizing built-in operators (+, -, *, etc.) to work with user-defined objects.\n",
        "<> Achieves compile-time polymorphism.\n",
        " Improves Maintainability and Scalability:\n",
        "<> Makes the code easy to extend without modifying existing functionality.\n",
        "<> Ideal for large applications where different objects need to share the same interface.\n",
        "\n",
        "15. What is an abstract class in python?\n",
        "->  An abstract class is a class that cannot be instantiated and serves as a blueprint for other classes. It defines methods that must be implemented by its subclasses, enforcing a structure.\n",
        "Python provides abstract classes using the abc (Abstract Base Class) module.\n",
        "\n",
        "16. What are the advantages of OOP?\n",
        "->  Code Reusability (DRY Principle):\n",
        "<> OOP promotes reusability through inheritance – a child class can reuse code from a parent class.\n",
        "<> Avoids code duplication, reducing development time.\n",
        " Encapsulation (Data Hiding & Security):\n",
        "<> Encapsulation restricts direct access to object data, ensuring data integrity.\n",
        "<> Private variables (__variable) and getter/setter methods help protect sensitive information.\n",
        " Improved Code Maintainability:\n",
        "<> Modular code makes debugging and updating easier.\n",
        "<> Changes in one part of the code do not affect unrelated parts.\n",
        " Polymorphism (Flexibility & Extensibility):\n",
        "<> Same method, different behavior – Allows objects to be treated generically.\n",
        "<> Supports method overriding and operator overloading for flexibility.\n",
        " Scalability & Extensibility:\n",
        "<> OOP allows new features to be added without modifying existing code.\n",
        "<> Helps manage large-scale applications efficiently.\n",
        " Real-World Modeling (Better Problem-Solving):\n",
        "<> OOP represents real-world entities (e.g., Car, Person, BankAccount).\n",
        "<> Objects store data (attributes) and behavior (methods), making code more relatable.\n",
        " Improved Collaboration & Readability:\n",
        "<> OOP promotes modular development, making it easier for teams to collaborate.\n",
        "<> Code is structured into classes, improving readability and understanding.\n",
        "\n",
        "17. What is the difference between a class variable and an instance variable?\n",
        "-> Class Variable: A class variable is shared by all instances of a class. It is defined inside the class but outside any method.\n",
        "Characteristics:\n",
        "<> Defined at the class level and shared among all instances.\n",
        "<> Changing it affects all instances of the class.\n",
        "<> Accessed using ClassName.variable or self.variable\n",
        "\n",
        "Instance variable: An instance variable is unique to each object (instance) of a class. It is defined inside the constructor (__init__) using self.\n",
        "Characteristics:\n",
        "<> Defined inside methods using self.\n",
        "<> Each instance gets its own copy of the variable.\n",
        "<> Changing an instance variable affects only that instance.\n",
        "\n",
        "18. What is multiple inheritance in Python?\n",
        "->  Multiple Inheritance is a feature in Python where a class can inherit from more than one parent class. This allows a child class to access the attributes and methods of multiple parent classes.\n",
        "\n",
        "19. Explain the purpose of ‘’__str__’ and ‘__repr__’ ‘ methods in Python.\n",
        "->  In Python, __str__ and __repr__ are special (dunder) methods used to define how objects of a class should be represented as strings. These methods help control how an object is displayed when printed or inspected.\n",
        " __str__: User-Friendly Representation:\n",
        "<> The __str__ method is used to return a human-readable (informal) string representation of an object.\n",
        "<> It is called by the print() function or str(object).\n",
        "<> Its purpose is to provide a well-formatted, user-friendly output.\n",
        " __repr__: Developer-Friendly Representation:\n",
        "<> The __repr__ method is used to return a formal, unambiguous string representation of an object.\n",
        "<> It is called by the repr(object) function or when inspecting objects in a Python shell.\n",
        "<> Its purpose is to provide a string that can be used to recreate the object.\n",
        "\n",
        "20. What is the significance of the ‘super()’ function in Python?\n",
        "->  The super() function in Python is used to call methods from a parent class inside a child class. It is especially useful in inheritance, allowing child classes to access and extend the functionality of parent classes without directly referencing them.\n",
        "\n",
        "21. What is the significance of the __del__ method in Python?\n",
        "->  The super() function in Python is used to call methods from a parent class inside a child class. It is especially useful in inheritance, allowing child classes to access and extend the functionality of parent classes without directly referencing them.\n",
        "\n",
        "22. What is the difference between @staticmethod and @classmethod in Python?\n",
        "->  @staticmethod:\n",
        "A static method is a method inside a class that does not require access to the instance (self) or the class (cls). It behaves just like a regular function but is logically grouped inside a class.\n",
        "Key Features:\n",
        "<> Does not take self (instance) or cls (class) as the first parameter.\n",
        "<> Can be called on the class itself or an instance.\n",
        "<> Used when a method is related to the class but does not need to modify class or instance attributes.\n",
        " @classmethod:\n",
        "A class method is a method that operates on the class itself rather than instances. It takes cls as the first parameter, allowing it to modify class attributes.\n",
        "Key Features:\n",
        "<> Takes cls as the first parameter (reference to the class).\n",
        "<> Can modify class-level attributes (shared by all instances).\n",
        "<> Can be called on the class itself or an instance.\n",
        "\n",
        "23. How does polymorphism work in Python with inheritance?\n",
        "->  Polymorphism means \"many forms\"—the ability of different objects to respond to the same method name in different ways. In Python, polymorphism is commonly achieved through method overriding in inheritance.\n",
        "Key Benefit: It allows different classes to share the same method name, making code more flexible and reusable.\n",
        " Polymorphism Using Method Overriding in Inheritance:\n",
        "When a child class provides a different implementation of a method that is already defined in its parent class, it is called method overriding.\n",
        "\n",
        "24. What is method chaining in Python OOP?\n",
        "->  Method chaining is a technique where multiple methods are called sequentially on the same object in a single line. This is done by having each method return self (the instance itself), allowing the next method to be called immediately.\n",
        "\n",
        "25. What is the purpose of the __call__ method in Python?\n",
        "->  The __call__ method in Python allows an instance of a class to be called like a function. When you define __call__ inside a class, you can invoke an object of that class using parentheses (), just like a function.\n",
        "Key Benefit: It makes objects callable, meaning they can be used as functions while still maintaining state.\n",
        "\n"
      ],
      "metadata": {
        "id": "dMG3i78SIfiJ"
      }
    },
    {
      "cell_type": "markdown",
      "source": [
        "            * Practical Questions *"
      ],
      "metadata": {
        "id": "vta8Hr0cebas"
      }
    },
    {
      "cell_type": "markdown",
      "source": [
        "#1 Create a parent class Animal with a method speak() that prints a generic message. Create a child class Dog that overrides the speak() method to print \"Bark!\"."
      ],
      "metadata": {
        "id": "kPmoqK4OeBWp"
      }
    },
    {
      "cell_type": "code",
      "source": [
        "class Animal:\n",
        "    def speak(self):\n",
        "        print(\"Animal makes a sound\")\n",
        "\n",
        "# Child Class\n",
        "class Dog(Animal):\n",
        "    def speak(self):  # Overriding the parent class method\n",
        "        print(\"Bark!\")\n",
        "    animal = Animal()\n",
        "    dog = Dog()\n",
        "    animal.speak()\n",
        "    dog.speak()\n"
      ],
      "metadata": {
        "colab": {
          "base_uri": "https://localhost:8080/"
        },
        "id": "Ma-Ny91ZeW8Y",
        "outputId": "5ac1f894-d106-4ec1-fca5-f0bb53d11a90"
      },
      "execution_count": 7,
      "outputs": [
        {
          "output_type": "stream",
          "name": "stdout",
          "text": [
            "Animal makes a sound\n",
            "Bark!\n"
          ]
        }
      ]
    },
    {
      "cell_type": "markdown",
      "source": [
        "#2 Write a program to create an abstract class Shape with a method area(). Derive classes Circle and Rectangle from it and implement the area() method in both.\n",
        "\n",
        "\n"
      ],
      "metadata": {
        "id": "xeOBqEkQe185"
      }
    },
    {
      "cell_type": "code",
      "source": [
        "from abc import ABC, abstractmethod\n",
        "import math\n",
        "class Shape(ABC):\n",
        "    @abstractmethod\n",
        "    def area(self):\n",
        "        pass\n",
        "class Circle(Shape):\n",
        "    def __init__(self, radius):\n",
        "        self.radius = radius\n",
        "\n",
        "    def area(self):\n",
        "        return math.pi * self.radius ** 2\n",
        "class Rectangle(Shape):\n",
        "    def __init__(self, width, height):\n",
        "        self.width = width\n",
        "        self.height = height\n",
        "\n",
        "    def area(self):\n",
        "        return self.width * self.height\n",
        "circle = Circle(5)\n",
        "rectangle = Rectangle(4, 6)\n",
        "print(f\"Circle Area: {circle.area():.2f}\")\n",
        "print(f\"Rectangle Area: {rectangle.area()}\")\n"
      ],
      "metadata": {
        "colab": {
          "base_uri": "https://localhost:8080/"
        },
        "id": "b3sdNk6VfAFc",
        "outputId": "9fdaa3b7-99f0-449d-9ffc-6f5fce220f45"
      },
      "execution_count": 8,
      "outputs": [
        {
          "output_type": "stream",
          "name": "stdout",
          "text": [
            "Circle Area: 78.54\n",
            "Rectangle Area: 24\n"
          ]
        }
      ]
    },
    {
      "cell_type": "markdown",
      "source": [
        "#3 Implement a multi-level inheritance scenario where a class Vehicle has an attribute type. Derive a class Car and further derive a class ElectricCar that adds a battery attribute.\n",
        "\n"
      ],
      "metadata": {
        "id": "klWqYGSlfbuJ"
      }
    },
    {
      "cell_type": "code",
      "source": [
        "class Vehicle:\n",
        "    def __init__(self, type):\n",
        "        self.type = type\n",
        "\n",
        "    def show_type(self):\n",
        "        print(f\"Vehicle Type: {self.type}\")\n",
        "class Car(Vehicle):\n",
        "    def __init__(self, brand, type=\"Car\"):\n",
        "        super().__init__(type)\n",
        "        self.brand = brand\n",
        "\n",
        "    def show_brand(self):\n",
        "        print(f\"Car Brand: {self.brand}\")\n",
        "class ElectricCar(Car):\n",
        "    def __init__(self, brand, battery_capacity):\n",
        "        super().__init__(brand)\n",
        "        self.battery_capacity = battery_capacity\n",
        "\n",
        "    def show_battery(self):\n",
        "        print(f\"Battery Capacity: {self.battery_capacity} kWh\")\n",
        "tesla = ElectricCar(\"Tesla\", 75)\n",
        "tesla.show_type()\n",
        "tesla.show_brand()\n",
        "tesla.show_battery()\n"
      ],
      "metadata": {
        "colab": {
          "base_uri": "https://localhost:8080/"
        },
        "id": "KvkZJljefl5s",
        "outputId": "2fdb5d23-d1ae-4f7e-96f5-931b5ae458cf"
      },
      "execution_count": 9,
      "outputs": [
        {
          "output_type": "stream",
          "name": "stdout",
          "text": [
            "Vehicle Type: Car\n",
            "Car Brand: Tesla\n",
            "Battery Capacity: 75 kWh\n"
          ]
        }
      ]
    },
    {
      "cell_type": "markdown",
      "source": [
        "#4 Demonstrate polymorphism by creating a base class Bird with a method fly(). Create two derived classes Sparrow and Penguin that override the fly() method."
      ],
      "metadata": {
        "id": "f2dHI4MIf9L0"
      }
    },
    {
      "cell_type": "code",
      "source": [
        "class Bird:\n",
        "    def fly(self):\n",
        "        print(\"Some birds can fly.\")\n",
        "class Sparrow(Bird):\n",
        "    def fly(self):\n",
        "        print(\"Sparrow flies high in the sky.\")\n",
        "class Penguin(Bird):\n",
        "    def fly(self):\n",
        "        print(\"Penguins cannot fly, but they swim!\")\n",
        "birds = [Sparrow(), Penguin(), Bird()]\n",
        "for bird in birds:\n",
        "    bird.fly()\n"
      ],
      "metadata": {
        "colab": {
          "base_uri": "https://localhost:8080/"
        },
        "id": "QFNQHpTtgDBG",
        "outputId": "e80acd0e-a274-4625-9f5e-d34d0f3f1093"
      },
      "execution_count": 10,
      "outputs": [
        {
          "output_type": "stream",
          "name": "stdout",
          "text": [
            "Sparrow flies high in the sky.\n",
            "Penguins cannot fly, but they swim!\n",
            "Some birds can fly.\n"
          ]
        }
      ]
    },
    {
      "cell_type": "markdown",
      "source": [
        "#5  Write a program to demonstrate encapsulation by creating a class BankAccount with private attributes balance and methods to deposit, withdraw, and check balance.\n",
        "\n"
      ],
      "metadata": {
        "id": "bQNVT-YvgTEo"
      }
    },
    {
      "cell_type": "code",
      "source": [
        "class BankAccount:\n",
        "    def __init__(self, initial_balance=0):\n",
        "        self.__balance = initial_balance\n",
        "\n",
        "    def deposit(self, amount):\n",
        "        if amount > 0:\n",
        "            self.__balance += amount\n",
        "            print(f\"Deposited: ${amount}\")\n",
        "        else:\n",
        "            print(\"Deposit amount must be positive.\")\n",
        "\n",
        "    def withdraw(self, amount):\n",
        "        if 0 < amount <= self.__balance:\n",
        "            self.__balance -= amount\n",
        "            print(f\"Withdrew: ${amount}\")\n",
        "        else:\n",
        "            print(\"Insufficient balance or invalid amount.\")\n",
        "\n",
        "    def check_balance(self):\n",
        "        print(f\"Current Balance: ${self.__balance}\")\n",
        "account = BankAccount(100)\n",
        "account.deposit(50)\n",
        "account.withdraw(30)\n",
        "account.check_balance()\n"
      ],
      "metadata": {
        "colab": {
          "base_uri": "https://localhost:8080/"
        },
        "id": "FGE32opPgZIL",
        "outputId": "cf7b8c38-65b3-439f-f880-ba7a093a55c2"
      },
      "execution_count": 11,
      "outputs": [
        {
          "output_type": "stream",
          "name": "stdout",
          "text": [
            "Deposited: $50\n",
            "Withdrew: $30\n",
            "Current Balance: $120\n"
          ]
        }
      ]
    },
    {
      "cell_type": "markdown",
      "source": [
        "#6 Demonstrate runtime polymorphism using a method play() in a base class Instrument. Derive classes Guitar and Piano that implement their own version of play().\n",
        "\n"
      ],
      "metadata": {
        "id": "JfR6BlGagm64"
      }
    },
    {
      "cell_type": "code",
      "source": [
        "class Instrument:\n",
        "    def play(self):\n",
        "        print(\"Playing an instrument.\")\n",
        "class Guitar(Instrument):\n",
        "    def play(self):\n",
        "        print(\"Strumming the guitar.\")\n",
        "class Piano(Instrument):\n",
        "    def play(self):\n",
        "        print(\"Playing the piano keys.\")\n",
        "instruments = [Guitar(), Piano(), Instrument()]\n",
        "for instrument in instruments:\n",
        "    instrument.play()\n"
      ],
      "metadata": {
        "colab": {
          "base_uri": "https://localhost:8080/"
        },
        "id": "RHOlb-nAgxxS",
        "outputId": "8a3c00a4-e823-49d3-8be0-b398648f6116"
      },
      "execution_count": 12,
      "outputs": [
        {
          "output_type": "stream",
          "name": "stdout",
          "text": [
            "Strumming the guitar.\n",
            "Playing the piano keys.\n",
            "Playing an instrument.\n"
          ]
        }
      ]
    },
    {
      "cell_type": "markdown",
      "source": [
        "#7 Create a class MathOperations with a class method add_numbers() to add two numbers and a static method subtract_numbers() to subtract two numbers.\n",
        "\n"
      ],
      "metadata": {
        "id": "5KQvsNuQg6eA"
      }
    },
    {
      "cell_type": "code",
      "source": [
        "class MathOperations:\n",
        "    @classmethod\n",
        "    def add_numbers(cls, a, b):\n",
        "        \"\"\"Class method to add two numbers\"\"\"\n",
        "        return a + b\n",
        "\n",
        "    @staticmethod\n",
        "    def subtract_numbers(a, b):\n",
        "        \"\"\"Static method to subtract two numbers\"\"\"\n",
        "        return a - b\n",
        "print(\"Addition:\", MathOperations.add_numbers(5, 3))\n",
        "print(\"Subtraction:\", MathOperations.subtract_numbers(10, 4))\n"
      ],
      "metadata": {
        "colab": {
          "base_uri": "https://localhost:8080/"
        },
        "id": "-p9zJOCdhALZ",
        "outputId": "c6375dfc-8b3e-415d-b5b2-f18f736ffd20"
      },
      "execution_count": 13,
      "outputs": [
        {
          "output_type": "stream",
          "name": "stdout",
          "text": [
            "Addition: 8\n",
            "Subtraction: 6\n"
          ]
        }
      ]
    },
    {
      "cell_type": "markdown",
      "source": [
        "#8 Implement a class Person with a class method to count the total number of persons created.\n",
        "\n"
      ],
      "metadata": {
        "id": "uR02bRTshONK"
      }
    },
    {
      "cell_type": "code",
      "source": [
        "class Person:\n",
        "    count = 0\n",
        "\n",
        "    def __init__(self, name):\n",
        "        self.name = name\n",
        "        Person.count += 1\n",
        "\n",
        "    @classmethod\n",
        "    def total_persons(cls):\n",
        "        \"\"\"Class method to return the total count of persons created\"\"\"\n",
        "        return cls.count\n",
        "p1 = Person(\"Alice\")\n",
        "p2 = Person(\"Bob\")\n",
        "p3 = Person(\"Charlie\")\n",
        "print(\"Total Persons Created:\", Person.total_persons())\n"
      ],
      "metadata": {
        "colab": {
          "base_uri": "https://localhost:8080/"
        },
        "id": "TW4ZQd15hU2W",
        "outputId": "61f880f1-15c4-405a-dfb9-f38cd4aaa700"
      },
      "execution_count": 14,
      "outputs": [
        {
          "output_type": "stream",
          "name": "stdout",
          "text": [
            "Total Persons Created: 3\n"
          ]
        }
      ]
    },
    {
      "cell_type": "markdown",
      "source": [
        "#9 Write a class Fraction with attributes numerator and denominator. Override the str method to display the fraction as \"numerator/denominator\".\n",
        "\n"
      ],
      "metadata": {
        "id": "CkZ0ypg2hmJL"
      }
    },
    {
      "cell_type": "code",
      "source": [
        "class Fraction:\n",
        "    def __init__(self, numerator, denominator):\n",
        "        if denominator == 0:\n",
        "            raise ValueError(\"Denominator cannot be zero\")\n",
        "        self.numerator = numerator\n",
        "        self.denominator = denominator\n",
        "\n",
        "    def __str__(self):\n",
        "        \"\"\"Overriding str method to display fraction as 'numerator/denominator'\"\"\"\n",
        "        return f\"{self.numerator}/{self.denominator}\"\n",
        "frac1 = Fraction(3, 4)\n",
        "frac2 = Fraction(5, 8)\n",
        "print(frac1)\n",
        "print(frac2)\n"
      ],
      "metadata": {
        "colab": {
          "base_uri": "https://localhost:8080/"
        },
        "id": "RscvUW_-huGo",
        "outputId": "7f2df0ae-80df-47f7-d806-56cbb093f19a"
      },
      "execution_count": 15,
      "outputs": [
        {
          "output_type": "stream",
          "name": "stdout",
          "text": [
            "3/4\n",
            "5/8\n"
          ]
        }
      ]
    },
    {
      "cell_type": "markdown",
      "source": [
        "#10 Demonstrate operator overloading by creating a class Vector and overriding the add method to add two vectors.\n",
        "\n"
      ],
      "metadata": {
        "id": "Qt1gjAeRiAxc"
      }
    },
    {
      "cell_type": "code",
      "source": [
        "class Vector:\n",
        "    def __init__(self, x, y):\n",
        "        self.x = x\n",
        "        self.y = y\n",
        "\n",
        "    def __add__(self, other):\n",
        "        \"\"\"Overloading the + operator to add two vectors\"\"\"\n",
        "        if not isinstance(other, Vector):\n",
        "            raise TypeError(\"Operand must be a Vector\")\n",
        "        return Vector(self.x + other.x, self.y + other.y)\n",
        "\n",
        "    def __str__(self):\n",
        "        \"\"\"String representation of the Vector\"\"\"\n",
        "        return f\"({self.x}, {self.y})\"\n",
        "v1 = Vector(2, 3)\n",
        "v2 = Vector(4, 5)\n",
        "v3 = v1 + v2\n",
        "print(v3)\n"
      ],
      "metadata": {
        "colab": {
          "base_uri": "https://localhost:8080/"
        },
        "id": "2WqlUG9niFZj",
        "outputId": "b0dc9308-c577-41da-ad8f-de97717c962e"
      },
      "execution_count": 16,
      "outputs": [
        {
          "output_type": "stream",
          "name": "stdout",
          "text": [
            "(6, 8)\n"
          ]
        }
      ]
    },
    {
      "cell_type": "markdown",
      "source": [
        "#11 Create a class Person with attributes name and age. Add a method greet() that prints \"Hello, my name is {name} and I am {age} years old.\"\n",
        "\n"
      ],
      "metadata": {
        "id": "kMjC2FJNiRVc"
      }
    },
    {
      "cell_type": "code",
      "source": [
        "class Person:\n",
        "    def __init__(self, name, age):\n",
        "        self.name = name\n",
        "        self.age = age\n",
        "\n",
        "    def greet(self):\n",
        "        \"\"\"Method to print a greeting message\"\"\"\n",
        "        print(f\"Hello, my name is {self.name} and I am {self.age} years old.\")\n",
        "person1 = Person(\"Alice\", 25)\n",
        "person2 = Person(\"Bob\", 30)\n",
        "person1.greet()\n",
        "person2.greet()"
      ],
      "metadata": {
        "colab": {
          "base_uri": "https://localhost:8080/"
        },
        "id": "8rngd2MviXtX",
        "outputId": "6aa0ec99-c70f-491e-e2cb-7599da2208d1"
      },
      "execution_count": 17,
      "outputs": [
        {
          "output_type": "stream",
          "name": "stdout",
          "text": [
            "Hello, my name is Alice and I am 25 years old.\n",
            "Hello, my name is Bob and I am 30 years old.\n"
          ]
        }
      ]
    },
    {
      "cell_type": "markdown",
      "source": [
        "#12 Implement a class Student with attributes name and grades. Create a method average_grade() to compute the average of the grades.\n",
        "\n",
        "\n"
      ],
      "metadata": {
        "id": "iJpGvuvdik1K"
      }
    },
    {
      "cell_type": "code",
      "source": [
        "class Student:\n",
        "    def __init__(self, name, grades):\n",
        "        self.name = name\n",
        "        self.grades = grades\n",
        "\n",
        "    def average_grade(self):\n",
        "        \"\"\"Method to calculate and return the average grade\"\"\"\n",
        "        if not self.grades:\n",
        "            return 0\n",
        "        return sum(self.grades) / len(self.grades)\n",
        "student1 = Student(\"Alice\", [85, 90, 78, 92])\n",
        "student2 = Student(\"Bob\", [88, 75, 95])\n",
        "print(f\"{student1.name}'s Average Grade: {student1.average_grade():.2f}\")\n",
        "\n",
        "print(f\"{student2.name}'s Average Grade: {student2.average_grade():.2f}\")\n",
        "\n"
      ],
      "metadata": {
        "colab": {
          "base_uri": "https://localhost:8080/"
        },
        "id": "SeduofjLisoO",
        "outputId": "0c02aa10-fe88-478e-c07e-19689d180717"
      },
      "execution_count": 18,
      "outputs": [
        {
          "output_type": "stream",
          "name": "stdout",
          "text": [
            "Alice's Average Grade: 86.25\n",
            "Bob's Average Grade: 86.00\n"
          ]
        }
      ]
    },
    {
      "cell_type": "markdown",
      "source": [
        "#13 Create a class Rectangle with methods set_dimensions() to set the dimensions and area() to calculate the area.\n",
        "\n"
      ],
      "metadata": {
        "id": "uzFsltFUi9gP"
      }
    },
    {
      "cell_type": "code",
      "source": [
        "class Rectangle:\n",
        "    def __init__(self, width=0, height=0):\n",
        "        \"\"\"Initialize the rectangle with default values\"\"\"\n",
        "        self.width = width\n",
        "        self.height = height\n",
        "\n",
        "    def set_dimensions(self, width, height):\n",
        "        \"\"\"Method to set the dimensions of the rectangle\"\"\"\n",
        "        self.width = width\n",
        "        self.height = height\n",
        "\n",
        "    def area(self):\n",
        "        \"\"\"Method to calculate and return the area\"\"\"\n",
        "        return self.width * self.height\n",
        "rect = Rectangle()\n",
        "rect.set_dimensions(5, 10)\n",
        "print(\"Rectangle Area:\", rect.area())\n"
      ],
      "metadata": {
        "colab": {
          "base_uri": "https://localhost:8080/"
        },
        "id": "P4VJIOp1jDNl",
        "outputId": "d816a06e-b262-498b-c7fb-3abd31e5ee82"
      },
      "execution_count": 19,
      "outputs": [
        {
          "output_type": "stream",
          "name": "stdout",
          "text": [
            "Rectangle Area: 50\n"
          ]
        }
      ]
    },
    {
      "cell_type": "markdown",
      "source": [
        "#14 Create a class Employee with a method calculate_salary() that computes the salary based on hours worked and hourly rate. Create a derived class Manager that adds a bonus to the salary."
      ],
      "metadata": {
        "id": "c3qh3WBgjPK3"
      }
    },
    {
      "cell_type": "code",
      "source": [
        "class Employee:\n",
        "    def __init__(self, name, hours_worked, hourly_rate):\n",
        "        self.name = name\n",
        "        self.hours_worked = hours_worked\n",
        "        self.hourly_rate = hourly_rate\n",
        "\n",
        "    def calculate_salary(self):\n",
        "        \"\"\"Calculates salary based on hours worked and hourly rate\"\"\"\n",
        "        return self.hours_worked * self.hourly_rate\n",
        "class Manager(Employee):\n",
        "    def __init__(self, name, hours_worked, hourly_rate, bonus):\n",
        "        super().__init__(name, hours_worked, hourly_rate)\n",
        "        self.bonus = bonus\n",
        "\n",
        "    def calculate_salary(self):\n",
        "        \"\"\"Calculates salary with bonus\"\"\"\n",
        "        base_salary = super().calculate_salary()\n",
        "        return base_salary + self.bonus\n",
        "employee = Employee(\"Alice\", 40, 20)\n",
        "manager = Manager(\"Bob\", 40, 30, 500)\n",
        "print(f\"{employee.name}'s Salary: ${employee.calculate_salary()}\")\n",
        "print(f\"{manager.name}'s Salary: ${manager.calculate_salary()}\")\n"
      ],
      "metadata": {
        "colab": {
          "base_uri": "https://localhost:8080/"
        },
        "id": "_RGGG_VZjXci",
        "outputId": "fb440764-b306-4ffa-e97e-177e066c6097"
      },
      "execution_count": 20,
      "outputs": [
        {
          "output_type": "stream",
          "name": "stdout",
          "text": [
            "Alice's Salary: $800\n",
            "Bob's Salary: $1700\n"
          ]
        }
      ]
    },
    {
      "cell_type": "markdown",
      "source": [
        "#15 Create a class Product with attributes name, price, and quantity. Implement a method total_price() that calculates the total price of the product.\n",
        "\n"
      ],
      "metadata": {
        "id": "vbcKpXE2juuF"
      }
    },
    {
      "cell_type": "code",
      "source": [
        "class Product:\n",
        "    def __init__(self, name, price, quantity):\n",
        "        \"\"\"Initialize the product with name, price, and quantity\"\"\"\n",
        "        self.name = name\n",
        "        self.price = price\n",
        "        self.quantity = quantity\n",
        "\n",
        "    def total_price(self):\n",
        "        \"\"\"Calculates the total price of the product\"\"\"\n",
        "        return self.price * self.quantity\n",
        "product1 = Product(\"Laptop\", 800, 2)\n",
        "product2 = Product(\"Phone\", 500, 3)\n",
        "print(f\"Total price for {product1.name}: ${product1.total_price()}\")\n",
        "print(f\"Total price for {product2.name}: ${product2.total_price()}\")"
      ],
      "metadata": {
        "colab": {
          "base_uri": "https://localhost:8080/"
        },
        "id": "r240FFz2j2kR",
        "outputId": "25d0e588-d35d-44b1-baaa-7277445e3c3d"
      },
      "execution_count": 21,
      "outputs": [
        {
          "output_type": "stream",
          "name": "stdout",
          "text": [
            "Total price for Laptop: $1600\n",
            "Total price for Phone: $1500\n"
          ]
        }
      ]
    },
    {
      "cell_type": "markdown",
      "source": [
        "#16 Create a class Animal with an abstract method sound(). Create two derived classes Cow and Sheep that implement the sound() method.\n",
        "\n"
      ],
      "metadata": {
        "id": "dM_-pOlGkFAK"
      }
    },
    {
      "cell_type": "code",
      "source": [
        "from abc import ABC, abstractmethod\n",
        "class Animal(ABC):\n",
        "    @abstractmethod\n",
        "    def sound(self):\n",
        "        \"\"\"Abstract method to be implemented by derived classes\"\"\"\n",
        "        pass\n",
        "class Cow(Animal):\n",
        "    def sound(self):\n",
        "        return \"Moo!\"\n",
        "class Sheep(Animal):\n",
        "    def sound(self):\n",
        "        return \"Baa!\"\n",
        "cow = Cow()\n",
        "sheep = Sheep()\n",
        "print(f\"Cow: {cow.sound()}\")\n",
        "print(f\"Sheep: {sheep.sound()}\")\n"
      ],
      "metadata": {
        "colab": {
          "base_uri": "https://localhost:8080/"
        },
        "id": "Oyh9uXn7kLII",
        "outputId": "85808824-18aa-4f7e-91b7-4680dc26ef53"
      },
      "execution_count": 22,
      "outputs": [
        {
          "output_type": "stream",
          "name": "stdout",
          "text": [
            "Cow: Moo!\n",
            "Sheep: Baa!\n"
          ]
        }
      ]
    },
    {
      "cell_type": "markdown",
      "source": [
        "#17 Create a class Book with attributes title, author, and year_published. Add a method get_book_info() that returns a formatted string with the book's details.\n",
        "\n"
      ],
      "metadata": {
        "id": "2RcOXoSxkbaH"
      }
    },
    {
      "cell_type": "code",
      "source": [
        "class Book:\n",
        "    def __init__(self, title, author, year_published):\n",
        "        \"\"\"Initialize book attributes\"\"\"\n",
        "        self.title = title\n",
        "        self.author = author\n",
        "        self.year_published = year_published\n",
        "\n",
        "    def get_book_info(self):\n",
        "        \"\"\"Returns a formatted string with book details\"\"\"\n",
        "        return f\"'{self.title}' by {self.author}, published in {self.year_published}.\"\n",
        "book1 = Book(\"To Kill a Mockingbird\", \"Harper Lee\", 1960)\n",
        "book2 = Book(\"1984\", \"George Orwell\", 1949)\n",
        "print(book1.get_book_info())\n",
        "print(book2.get_book_info())\n"
      ],
      "metadata": {
        "colab": {
          "base_uri": "https://localhost:8080/"
        },
        "id": "APIlHNYNkrKh",
        "outputId": "98b39078-0d0b-439c-e2b2-8a39da32424a"
      },
      "execution_count": 23,
      "outputs": [
        {
          "output_type": "stream",
          "name": "stdout",
          "text": [
            "'To Kill a Mockingbird' by Harper Lee, published in 1960.\n",
            "'1984' by George Orwell, published in 1949.\n"
          ]
        }
      ]
    },
    {
      "cell_type": "markdown",
      "source": [
        "#18 Create a class House with attributes address and price. Create a derived class Mansion that adds an attribute number_of_rooms.\n"
      ],
      "metadata": {
        "id": "BWYj0qK7k2JY"
      }
    },
    {
      "cell_type": "code",
      "source": [
        "class House:\n",
        "    def __init__(self, address, price):\n",
        "        \"\"\"Initialize house attributes\"\"\"\n",
        "        self.address = address\n",
        "        self.price = price\n",
        "\n",
        "    def get_info(self):\n",
        "        \"\"\"Returns a formatted string with house details\"\"\"\n",
        "        return f\"Address: {self.address}, Price: ${self.price:,}\"\n",
        "class Mansion(House):\n",
        "    def __init__(self, address, price, number_of_rooms):\n",
        "        \"\"\"Initialize mansion attributes by extending House\"\"\"\n",
        "        super().__init__(address, price)\n",
        "        self.number_of_rooms = number_of_rooms\n",
        "\n",
        "    def get_info(self):\n",
        "        \"\"\"Returns a formatted string with mansion details\"\"\"\n",
        "        return f\"{super().get_info()}, Number of Rooms: {self.number_of_rooms}\"\n",
        "house1 = House(\"123 Elm Street\", 250000)\n",
        "mansion1 = Mansion(\"456 Oak Avenue\", 1200000, 12)\n",
        "print(house1.get_info())\n",
        "print(mansion1.get_info())"
      ],
      "metadata": {
        "colab": {
          "base_uri": "https://localhost:8080/"
        },
        "id": "XK5mTHjik8Kt",
        "outputId": "3047c79f-bcb4-4b00-8923-221740c6c4f5"
      },
      "execution_count": 24,
      "outputs": [
        {
          "output_type": "stream",
          "name": "stdout",
          "text": [
            "Address: 123 Elm Street, Price: $250,000\n",
            "Address: 456 Oak Avenue, Price: $1,200,000, Number of Rooms: 12\n"
          ]
        }
      ]
    }
  ]
}